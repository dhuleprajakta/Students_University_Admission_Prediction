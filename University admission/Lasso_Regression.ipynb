{
 "cells": [
  {
   "cell_type": "code",
   "execution_count": 34,
   "id": "9a7947fe-56fd-4a52-851f-4dac3f6535fb",
   "metadata": {},
   "outputs": [],
   "source": [
    "import pandas as pd\n",
    "import numpy as np\n",
    "\n",
    "import seaborn as sns\n",
    "import matplotlib.pyplot as plt\n",
    "\n",
    "import warnings\n",
    "warnings.simplefilter('ignore')"
   ]
  },
  {
   "cell_type": "code",
   "execution_count": 35,
   "id": "ef183b61-0665-4094-96ec-1d3014fdef05",
   "metadata": {},
   "outputs": [],
   "source": [
    "df = pd.read_csv(r\"E:\\Data Science by SRK\\Machine_learning\\project\\University admission\\cleaned_dataset_admission_predict.csv\")"
   ]
  },
  {
   "cell_type": "code",
   "execution_count": 36,
   "id": "ddb7a4fb-443a-4725-9509-1bca58d0718f",
   "metadata": {},
   "outputs": [
    {
     "data": {
      "text/html": [
       "<div>\n",
       "<style scoped>\n",
       "    .dataframe tbody tr th:only-of-type {\n",
       "        vertical-align: middle;\n",
       "    }\n",
       "\n",
       "    .dataframe tbody tr th {\n",
       "        vertical-align: top;\n",
       "    }\n",
       "\n",
       "    .dataframe thead th {\n",
       "        text-align: right;\n",
       "    }\n",
       "</style>\n",
       "<table border=\"1\" class=\"dataframe\">\n",
       "  <thead>\n",
       "    <tr style=\"text-align: right;\">\n",
       "      <th></th>\n",
       "      <th>GRE_Score</th>\n",
       "      <th>TOEFL_Score</th>\n",
       "      <th>University_Rating</th>\n",
       "      <th>SOP</th>\n",
       "      <th>LOR</th>\n",
       "      <th>CGPA</th>\n",
       "      <th>Research</th>\n",
       "      <th>Chance_of_Admit</th>\n",
       "    </tr>\n",
       "  </thead>\n",
       "  <tbody>\n",
       "    <tr>\n",
       "      <th>0</th>\n",
       "      <td>337</td>\n",
       "      <td>118</td>\n",
       "      <td>4</td>\n",
       "      <td>4.5</td>\n",
       "      <td>4.5</td>\n",
       "      <td>9.65</td>\n",
       "      <td>1</td>\n",
       "      <td>0.92</td>\n",
       "    </tr>\n",
       "    <tr>\n",
       "      <th>1</th>\n",
       "      <td>324</td>\n",
       "      <td>107</td>\n",
       "      <td>4</td>\n",
       "      <td>4.0</td>\n",
       "      <td>4.5</td>\n",
       "      <td>8.87</td>\n",
       "      <td>1</td>\n",
       "      <td>0.76</td>\n",
       "    </tr>\n",
       "    <tr>\n",
       "      <th>2</th>\n",
       "      <td>316</td>\n",
       "      <td>104</td>\n",
       "      <td>3</td>\n",
       "      <td>3.0</td>\n",
       "      <td>3.5</td>\n",
       "      <td>8.00</td>\n",
       "      <td>1</td>\n",
       "      <td>0.72</td>\n",
       "    </tr>\n",
       "    <tr>\n",
       "      <th>3</th>\n",
       "      <td>322</td>\n",
       "      <td>110</td>\n",
       "      <td>3</td>\n",
       "      <td>3.5</td>\n",
       "      <td>2.5</td>\n",
       "      <td>8.67</td>\n",
       "      <td>1</td>\n",
       "      <td>0.80</td>\n",
       "    </tr>\n",
       "    <tr>\n",
       "      <th>4</th>\n",
       "      <td>314</td>\n",
       "      <td>103</td>\n",
       "      <td>2</td>\n",
       "      <td>2.0</td>\n",
       "      <td>3.0</td>\n",
       "      <td>8.21</td>\n",
       "      <td>0</td>\n",
       "      <td>0.65</td>\n",
       "    </tr>\n",
       "    <tr>\n",
       "      <th>...</th>\n",
       "      <td>...</td>\n",
       "      <td>...</td>\n",
       "      <td>...</td>\n",
       "      <td>...</td>\n",
       "      <td>...</td>\n",
       "      <td>...</td>\n",
       "      <td>...</td>\n",
       "      <td>...</td>\n",
       "    </tr>\n",
       "    <tr>\n",
       "      <th>495</th>\n",
       "      <td>332</td>\n",
       "      <td>108</td>\n",
       "      <td>5</td>\n",
       "      <td>4.5</td>\n",
       "      <td>4.0</td>\n",
       "      <td>9.02</td>\n",
       "      <td>1</td>\n",
       "      <td>0.87</td>\n",
       "    </tr>\n",
       "    <tr>\n",
       "      <th>496</th>\n",
       "      <td>337</td>\n",
       "      <td>117</td>\n",
       "      <td>5</td>\n",
       "      <td>5.0</td>\n",
       "      <td>5.0</td>\n",
       "      <td>9.87</td>\n",
       "      <td>1</td>\n",
       "      <td>0.96</td>\n",
       "    </tr>\n",
       "    <tr>\n",
       "      <th>497</th>\n",
       "      <td>330</td>\n",
       "      <td>120</td>\n",
       "      <td>5</td>\n",
       "      <td>4.5</td>\n",
       "      <td>5.0</td>\n",
       "      <td>9.56</td>\n",
       "      <td>1</td>\n",
       "      <td>0.93</td>\n",
       "    </tr>\n",
       "    <tr>\n",
       "      <th>498</th>\n",
       "      <td>312</td>\n",
       "      <td>103</td>\n",
       "      <td>4</td>\n",
       "      <td>4.0</td>\n",
       "      <td>5.0</td>\n",
       "      <td>8.43</td>\n",
       "      <td>0</td>\n",
       "      <td>0.73</td>\n",
       "    </tr>\n",
       "    <tr>\n",
       "      <th>499</th>\n",
       "      <td>327</td>\n",
       "      <td>113</td>\n",
       "      <td>4</td>\n",
       "      <td>4.5</td>\n",
       "      <td>4.5</td>\n",
       "      <td>9.04</td>\n",
       "      <td>0</td>\n",
       "      <td>0.84</td>\n",
       "    </tr>\n",
       "  </tbody>\n",
       "</table>\n",
       "<p>500 rows × 8 columns</p>\n",
       "</div>"
      ],
      "text/plain": [
       "     GRE_Score  TOEFL_Score  University_Rating  SOP  LOR  CGPA  Research  \\\n",
       "0          337          118                  4  4.5  4.5  9.65         1   \n",
       "1          324          107                  4  4.0  4.5  8.87         1   \n",
       "2          316          104                  3  3.0  3.5  8.00         1   \n",
       "3          322          110                  3  3.5  2.5  8.67         1   \n",
       "4          314          103                  2  2.0  3.0  8.21         0   \n",
       "..         ...          ...                ...  ...  ...   ...       ...   \n",
       "495        332          108                  5  4.5  4.0  9.02         1   \n",
       "496        337          117                  5  5.0  5.0  9.87         1   \n",
       "497        330          120                  5  4.5  5.0  9.56         1   \n",
       "498        312          103                  4  4.0  5.0  8.43         0   \n",
       "499        327          113                  4  4.5  4.5  9.04         0   \n",
       "\n",
       "     Chance_of_Admit  \n",
       "0               0.92  \n",
       "1               0.76  \n",
       "2               0.72  \n",
       "3               0.80  \n",
       "4               0.65  \n",
       "..               ...  \n",
       "495             0.87  \n",
       "496             0.96  \n",
       "497             0.93  \n",
       "498             0.73  \n",
       "499             0.84  \n",
       "\n",
       "[500 rows x 8 columns]"
      ]
     },
     "execution_count": 36,
     "metadata": {},
     "output_type": "execute_result"
    }
   ],
   "source": [
    "df"
   ]
  },
  {
   "cell_type": "code",
   "execution_count": 37,
   "id": "9d5406fe-ba3d-4d35-b7e8-fe776ff08c0d",
   "metadata": {},
   "outputs": [
    {
     "data": {
      "text/plain": [
       "GRE_Score              int64\n",
       "TOEFL_Score            int64\n",
       "University_Rating      int64\n",
       "SOP                  float64\n",
       "LOR                  float64\n",
       "CGPA                 float64\n",
       "Research               int64\n",
       "Chance_of_Admit      float64\n",
       "dtype: object"
      ]
     },
     "execution_count": 37,
     "metadata": {},
     "output_type": "execute_result"
    }
   ],
   "source": [
    "df.dtypes"
   ]
  },
  {
   "cell_type": "code",
   "execution_count": 38,
   "id": "e59400da-7ab1-4475-9505-8230661b67da",
   "metadata": {},
   "outputs": [
    {
     "name": "stdout",
     "output_type": "stream",
     "text": [
      "<class 'pandas.core.frame.DataFrame'>\n",
      "RangeIndex: 500 entries, 0 to 499\n",
      "Data columns (total 8 columns):\n",
      " #   Column             Non-Null Count  Dtype  \n",
      "---  ------             --------------  -----  \n",
      " 0   GRE_Score          500 non-null    int64  \n",
      " 1   TOEFL_Score        500 non-null    int64  \n",
      " 2   University_Rating  500 non-null    int64  \n",
      " 3   SOP                500 non-null    float64\n",
      " 4   LOR                500 non-null    float64\n",
      " 5   CGPA               500 non-null    float64\n",
      " 6   Research           500 non-null    int64  \n",
      " 7   Chance_of_Admit    500 non-null    float64\n",
      "dtypes: float64(4), int64(4)\n",
      "memory usage: 31.4 KB\n"
     ]
    }
   ],
   "source": [
    "df.info()"
   ]
  },
  {
   "cell_type": "markdown",
   "id": "818d26d0-fdde-496c-a686-f28f6d1f6a67",
   "metadata": {},
   "source": [
    "**X & y**"
   ]
  },
  {
   "cell_type": "code",
   "execution_count": 39,
   "id": "e2f75059-8e53-4ea3-9e11-30c1e8bf90a1",
   "metadata": {},
   "outputs": [],
   "source": [
    "X = df.drop(columns = ['Chance_of_Admit'])\n",
    "y = df['Chance_of_Admit']"
   ]
  },
  {
   "cell_type": "markdown",
   "id": "4f09c442-8d6e-4fa9-826b-e97985e7ef4e",
   "metadata": {},
   "source": [
    "# Train_Test_split"
   ]
  },
  {
   "cell_type": "code",
   "execution_count": 40,
   "id": "f1383ce6-0f79-406c-b568-98e3c9a601b0",
   "metadata": {},
   "outputs": [],
   "source": [
    "from sklearn.model_selection import train_test_split\n",
    "X_train, X_test, y_train, y_test = train_test_split(X, y, test_size = 0.2, random_state = 8)\n"
   ]
  },
  {
   "cell_type": "markdown",
   "id": "2e56ad3f-8fc7-47c0-b4a2-601c8a672d4f",
   "metadata": {},
   "source": [
    "# Modelling And Evaluation\n",
    "\n",
    "**Applying hyperparameter tuning for lasso regression**"
   ]
  },
  {
   "cell_type": "code",
   "execution_count": 41,
   "id": "c0de2534-0e3f-4845-978e-62b4be4e6864",
   "metadata": {},
   "outputs": [
    {
     "data": {
      "text/plain": [
       "{'alpha': 1}"
      ]
     },
     "execution_count": 41,
     "metadata": {},
     "output_type": "execute_result"
    }
   ],
   "source": [
    "from sklearn.model_selection import GridSearchCV\n",
    "\n",
    "# model\n",
    "from sklearn.linear_model import Lasso\n",
    "estimator = Lasso()\n",
    "\n",
    "# parameter and value\n",
    "param_grid = {\"alpha\" : list(range(1, 100))}\n",
    "\n",
    "# Identifying best parameter value(alpha0) within the given vaalues for the given data\n",
    "model_hp = GridSearchCV(estimator, param_grid, cv=5,scoring = 'r2')\n",
    "\n",
    "model_hp.fit(X_train, y_train)\n",
    "model_hp.best_params_"
   ]
  },
  {
   "cell_type": "markdown",
   "id": "b316ad93-cd76-48e8-b8b1-859e2c4b81db",
   "metadata": {},
   "source": [
    "If you are consistently getting alpha = 1 as the best value for multiple datasets, this suggests Regularization Might Not Be Needed"
   ]
  },
  {
   "cell_type": "markdown",
   "id": "a3038e4c-bfaf-43b5-9c72-8c3733d78612",
   "metadata": {},
   "source": [
    "**BUILD LASSO MODEL USING BEST HYPERPARAMETERS**"
   ]
  },
  {
   "cell_type": "code",
   "execution_count": 42,
   "id": "cfe6b53b-0b6e-4e1a-9c62-8f4eeecad333",
   "metadata": {},
   "outputs": [
    {
     "name": "stdout",
     "output_type": "stream",
     "text": [
      "Intercept :  -0.05273551898983242\n",
      "Coefficient :  [0.00244577 0.         0.         0.         0.         0.\n",
      " 0.        ]\n",
      "==========================================\n",
      "Train_R2 :  0.2787258058654749\n",
      "Cross_val_score :  0.27186173059468144\n",
      "Test_r2 :  0.2796429766888512\n"
     ]
    }
   ],
   "source": [
    "from sklearn.linear_model import Lasso\n",
    "lasso_best = Lasso(alpha = 1)\n",
    "lasso_best.fit(X_train, y_train)\n",
    "\n",
    "print(\"Intercept : \", lasso_best.intercept_)\n",
    "print(\"Coefficient : \", lasso_best.coef_)\n",
    "print(\"==========================================\")\n",
    "\n",
    "# Prediction And Evaluation on train Data\n",
    "ypred_train = lasso_best.predict(X_train)\n",
    "\n",
    "from sklearn.metrics import r2_score\n",
    "print(\"Train_R2 : \", r2_score(y_train, ypred_train))\n",
    "\n",
    "from sklearn.model_selection import cross_val_score\n",
    "print(\"Cross_val_score : \", cross_val_score(lasso_best, X_train, y_train, cv = 5).mean())\n",
    "\n",
    "# PREDICTION AND EVALUATION ON TEST DATA\n",
    "ypred_test = lasso_best.predict(X_test)\n",
    "print('Test_r2 : ', r2_score(y_test, ypred_test))"
   ]
  },
  {
   "cell_type": "markdown",
   "id": "f23c4016-2701-4fed-9532-8b456912a640",
   "metadata": {},
   "source": [
    "- All coefficients showing zero "
   ]
  },
  {
   "cell_type": "code",
   "execution_count": null,
   "id": "61a938e3-4fe6-470e-a491-6735bc4e5434",
   "metadata": {},
   "outputs": [],
   "source": []
  }
 ],
 "metadata": {
  "kernelspec": {
   "display_name": "Python 3 (ipykernel)",
   "language": "python",
   "name": "python3"
  },
  "language_info": {
   "codemirror_mode": {
    "name": "ipython",
    "version": 3
   },
   "file_extension": ".py",
   "mimetype": "text/x-python",
   "name": "python",
   "nbconvert_exporter": "python",
   "pygments_lexer": "ipython3",
   "version": "3.12.4"
  }
 },
 "nbformat": 4,
 "nbformat_minor": 5
}
